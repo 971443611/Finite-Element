{
 "cells": [
  {
   "cell_type": "markdown",
   "metadata": {},
   "source": [
    "Finite Element\n",
    "========"
   ]
  },
  {
   "cell_type": "markdown",
   "metadata": {},
   "source": [
    "A function $u(\\vec x, t)$ can be approximated in this way: \n",
    "\n",
    "$u(\\vec{x},t) \\approx \\sum_i a_i(t) \\phi_i(\\vec{x})$, \n",
    "\n",
    "where $\\phi_i(\\vec x)$ are a set of basis function. Now lets see this numericaly:"
   ]
  },
  {
   "cell_type": "code",
   "execution_count": 1,
   "metadata": {
    "collapsed": true
   },
   "outputs": [],
   "source": [
    "import numpy as np\n",
    "import matplotlib.pyplot as plt\n",
    "%matplotlib inline"
   ]
  },
  {
   "cell_type": "code",
   "execution_count": 6,
   "metadata": {
    "collapsed": false
   },
   "outputs": [
    {
     "data": {
      "image/png": "[encoded data removed]",
      "text/plain": [
       "<matplotlib.figure.Figure at 0x7fc2139c97f0>"
      ]
     },
     "metadata": {},
     "output_type": "display_data"
    }
   ],
   "source": [
    "Ne = 8\n",
    "\n",
    "#This is our exact function:\n",
    "x = 3 * np.pi * np.arange(100)/100\n",
    "u_original = np.cos(x)/(1+x)\n",
    "\n",
    "plt.plot(x,u_original);\n",
    "\n",
    "mesh = 3 * np.pi * np.arange(Ne)/Ne\n",
    "u_mesh = np.cos(mesh)/(1+mesh)\n",
    "\n",
    "plt.plot(mesh, u_mesh,'o');"
   ]
  },
  {
   "cell_type": "code",
   "execution_count": 10,
   "metadata": {
    "collapsed": false
   },
   "outputs": [
    {
     "data": {
      "text/plain": [
       "[<matplotlib.lines.Line2D at 0x7fc21381de10>]"
      ]
     },
     "execution_count": 10,
     "metadata": {},
     "output_type": "execute_result"
    },
    {
     "data": {
      "image/png": "[encoded data removed]",
      "text/plain": [
       "<matplotlib.figure.Figure at 0x7fc21382edd8>"
      ]
     },
     "metadata": {},
     "output_type": "display_data"
    }
   ],
   "source": [
    "Ne = 16\n",
    "\n",
    "mesh = 2 * np.pi * np.arange(Ne)/Ne\n",
    "a = np.cos(mesh)/(1+mesh)\n",
    "\n",
    "\n",
    "def phi(i,x):\n",
    "    if i < (Ne-1):\n",
    "        if mesh[i]<=x and x<mesh[i+1]:\n",
    "            return (mesh[i+1]-x)/(mesh[i+1]-mesh[i])\n",
    "    if i > 0:\n",
    "        if mesh[i-1]<=x and x<mesh[i]:\n",
    "            return (x-mesh[i-1])/(mesh[i]-mesh[i-1])\n",
    "    return 0\n",
    "\n",
    "def u(x,a):\n",
    "    u_ = 0\n",
    "    for i in range(len(a)):\n",
    "        u_ += a[i] * phi(i,x)\n",
    "    return u_\n",
    "\n",
    "x = 2 * np.pi * np.arange(10*Ne)/(10*Ne)\n",
    "#plt.plot(x,u(x))\n",
    "\n",
    "plt.plot(x,np.cos(x)/(1+x))\n",
    "\n",
    "for i in range(Ne):\n",
    "    y = np.array([ a[i]*phi(i,z) for z in x])\n",
    "    plt.plot(x,y)\n",
    "\n",
    "y = np.array([ u(z,a) for z in x])\n",
    "plt.plot(x,y, 'r')\n",
    "plt.plot(mesh,a, 'bo')\n"
   ]
  },
  {
   "cell_type": "markdown",
   "metadata": {},
   "source": [
    "$A \\frac{d\\vec a}{dt} + B \\vec a = 0$\n",
    "\n",
    "$A_{i,i-1} = A_{i,i+1} = \\Delta x/6$ \n",
    "\n",
    "$A_{ii} = 2\\Delta x/3$ \n",
    "\n",
    "$B_{i,i+1} = - B_{i-1,i} = -v/2$\n",
    "\n",
    "$B_{ii} = 0$"
   ]
  },
  {
   "cell_type": "code",
   "execution_count": 57,
   "metadata": {
    "collapsed": false
   },
   "outputs": [],
   "source": [
    "Ne = 5\n",
    "A = np.zeros((Ne,Ne))\n",
    "B = np.zeros((Ne,Ne))\n",
    "a = np.zeros(Ne)\n",
    "\n",
    "i,j = np.indices(A.shape)\n",
    "\n",
    "A[i==j] = 2/3\n",
    "A[i == j+1] = 1/6\n",
    "A[i == j-1] =1/6\n",
    "\n",
    "B[i == j+1] = 1/2\n",
    "B[i == j-1] = -1/2\n"
   ]
  },
  {
   "cell_type": "code",
   "execution_count": 51,
   "metadata": {
    "collapsed": false
   },
   "outputs": [],
   "source": [
    "A_inv = np.linalg.inv(A)\n",
    "C = (v/dx) * A_inv.dot(B)"
   ]
  },
  {
   "cell_type": "code",
   "execution_count": 58,
   "metadata": {
    "collapsed": false
   },
   "outputs": [
    {
     "data": {
      "text/plain": [
       "array([[ 0. , -0.5,  0. ,  0. ,  0. ],\n",
       "       [ 0.5,  0. , -0.5,  0. ,  0. ],\n",
       "       [ 0. ,  0.5,  0. , -0.5,  0. ],\n",
       "       [ 0. ,  0. ,  0.5,  0. , -0.5],\n",
       "       [ 0. ,  0. ,  0. ,  0.5,  0. ]])"
      ]
     },
     "execution_count": 58,
     "metadata": {},
     "output_type": "execute_result"
    }
   ],
   "source": []
  },
  {
   "cell_type": "code",
   "execution_count": null,
   "metadata": {
    "collapsed": true
   },
   "outputs": [],
   "source": []
  }
 ],
 "metadata": {
  "kernelspec": {
   "display_name": "Python 3",
   "language": "python",
   "name": "python3"
  },
  "language_info": {
   "codemirror_mode": {
    "name": "ipython",
    "version": 3
   },
   "file_extension": ".py",
   "mimetype": "text/x-python",
   "name": "python",
   "nbconvert_exporter": "python",
   "pygments_lexer": "ipython3",
   "version": "3.4.3+"
  }
 },
 "nbformat": 4,
 "nbformat_minor": 0
}
